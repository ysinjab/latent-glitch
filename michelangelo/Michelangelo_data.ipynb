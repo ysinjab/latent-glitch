{
  "nbformat": 4,
  "nbformat_minor": 0,
  "metadata": {
    "colab": {
      "name": "Michelangelo_data",
      "provenance": [],
      "authorship_tag": "ABX9TyM8UvHL63xHCe+iAxU+wzob",
      "include_colab_link": true
    },
    "kernelspec": {
      "name": "python3",
      "display_name": "Python 3"
    },
    "language_info": {
      "name": "python"
    }
  },
  "cells": [
    {
      "cell_type": "markdown",
      "metadata": {
        "id": "view-in-github",
        "colab_type": "text"
      },
      "source": [
        "<a href=\"https://colab.research.google.com/github/ysinjab/latent-glitch/blob/main/michelangelo/Michelangelo_data.ipynb\" target=\"_parent\"><img src=\"https://colab.research.google.com/assets/colab-badge.svg\" alt=\"Open In Colab\"/></a>"
      ]
    },
    {
      "cell_type": "markdown",
      "source": [
        "# Requirements\n",
        "Upload reference and points files from latent-glitch repository to the content direcotry."
      ],
      "metadata": {
        "id": "GPuK_o-fWzyv"
      }
    },
    {
      "cell_type": "code",
      "source": [
        "!ls"
      ],
      "metadata": {
        "colab": {
          "base_uri": "https://localhost:8080/"
        },
        "id": "4zdZF_YCcRg5",
        "outputId": "dfa0ad67-5030-446b-c3ec-7cc0cef3c275"
      },
      "execution_count": null,
      "outputs": [
        {
          "output_type": "stream",
          "name": "stdout",
          "text": [
            "Listlength_Ref_001.txt\toutput\t     T_001.txt\n",
            "Listlength_Ref_002.txt\tsample_data  T_002.txt\n"
          ]
        }
      ]
    },
    {
      "cell_type": "code",
      "source": [
        "import numpy as np"
      ],
      "metadata": {
        "id": "awO7H1z9dYQK"
      },
      "execution_count": null,
      "outputs": []
    },
    {
      "cell_type": "code",
      "source": [
        "!mkdir output"
      ],
      "metadata": {
        "colab": {
          "base_uri": "https://localhost:8080/"
        },
        "id": "nMzzuJNKc7uS",
        "outputId": "cf570fef-7588-495e-9638-83a74978c1cb"
      },
      "execution_count": null,
      "outputs": [
        {
          "output_type": "stream",
          "name": "stdout",
          "text": [
            "mkdir: cannot create directory ‘output’: File exists\n"
          ]
        }
      ]
    },
    {
      "cell_type": "code",
      "source": [
        "dir_64_path = '.'\n",
        "dir_npz_64_path = './output'"
      ],
      "metadata": {
        "id": "Qc5SwDS6c0Ya"
      },
      "execution_count": null,
      "outputs": []
    },
    {
      "cell_type": "markdown",
      "source": [
        "# Processing"
      ],
      "metadata": {
        "id": "00sOAAOCdIHn"
      }
    },
    {
      "cell_type": "markdown",
      "source": [
        "Extract the dimensions: x, y, z for each point and append it to a tmp points list. If reached the reference, you now have all mesh points: add them to data dictionary, and empty points list for the next mesh."
      ],
      "metadata": {
        "id": "cL2EFKdBds-R"
      }
    },
    {
      "cell_type": "code",
      "source": [
        "f1 = open(f'{dir_64_path}/T_001.txt','r')\n",
        "i = 0\n",
        "c = 0\n",
        "data = {}\n",
        "points = [] # list of tuples. One tuple contains the three dimensions of a point (x, y, z)\n",
        "for l in f1:\n",
        "    x = int(l.replace('{', '').replace('}', '').replace(' ', '').split(',')[0])\n",
        "    y = int(l.replace('{', '').replace('}', '').replace(' ', '').split(',')[1])\n",
        "    z = int(l.replace('{', '').replace('}', '').replace(' ', '').split(',')[2])\n",
        "    points.append((x, y, z))\n",
        "    i += 1\n",
        "    if i % 254 == 0:\n",
        "        data[c] = points\n",
        "        c += 1\n",
        "        points = []\n",
        "        \n",
        "f2 = open(f'{dir_64_path}/T_002.txt','r')\n",
        "for l in f2:\n",
        "    x = int(l.replace('{', '').replace('}', '').replace(' ', '').split(',')[0])\n",
        "    y = int(l.replace('{', '').replace('}', '').replace(' ', '').split(',')[1])\n",
        "    z = int(l.replace('{', '').replace('}', '').replace(' ', '').split(',')[2])\n",
        "    points.append((x, y, z))\n",
        "    i += 1\n",
        "    if i % 218 == 0:\n",
        "        data[c] = points\n",
        "        c += 1\n",
        "        points = []"
      ],
      "metadata": {
        "id": "ZuB0iI-DdJPF"
      },
      "execution_count": null,
      "outputs": []
    },
    {
      "cell_type": "code",
      "source": [
        "len(points) # "
      ],
      "metadata": {
        "colab": {
          "base_uri": "https://localhost:8080/"
        },
        "id": "TU3xooRtdOWV",
        "outputId": "2e48a86e-f465-478c-b956-6881ce8e2b53"
      },
      "execution_count": null,
      "outputs": [
        {
          "output_type": "execute_result",
          "data": {
            "text/plain": [
              "202"
            ]
          },
          "metadata": {},
          "execution_count": 27
        }
      ]
    },
    {
      "cell_type": "markdown",
      "source": [
        "Steps:\n",
        "* Generate an empty 3D array (64 x 64 x 64)\n",
        "* Loop over data dictionary and mark the element in 3D array with true if it match the point, otherwise skip and leave it as False."
      ],
      "metadata": {
        "id": "9C9NR99dfGOe"
      }
    },
    {
      "cell_type": "code",
      "source": [
        "for k, v in data.items():\n",
        "    mesh_array = np.random.randint(1, size=262144).reshape((64, 64, 64))\n",
        "    for p in v:\n",
        "        mesh_array[p[0], p[1], p[2]] = 1     \n",
        "    boolean_mesh_array = mesh_array == 1\n",
        "    n = str(k)\n",
        "    np.savez(f'{dir_npz_64_path}/{n}.npz', boolean_mesh_array)\n"
      ],
      "metadata": {
        "id": "CkD4yM_AdLS7"
      },
      "execution_count": null,
      "outputs": []
    },
    {
      "cell_type": "code",
      "source": [
        "n = np.load(f'{dir_npz_64_path}/0.npz')"
      ],
      "metadata": {
        "id": "uhYbrD8rdVRc"
      },
      "execution_count": null,
      "outputs": []
    },
    {
      "cell_type": "code",
      "source": [
        "print(n['arr_0'][0])"
      ],
      "metadata": {
        "colab": {
          "base_uri": "https://localhost:8080/"
        },
        "id": "Nk3mkzhuePpu",
        "outputId": "58b7c184-c0f6-4d7b-a820-b3c316852b05"
      },
      "execution_count": null,
      "outputs": [
        {
          "output_type": "stream",
          "name": "stdout",
          "text": [
            "[[False False False ... False False False]\n",
            " [False False False ... False False False]\n",
            " [False False False ... False False False]\n",
            " ...\n",
            " [False False False ... False False False]\n",
            " [False False False ... False False False]\n",
            " [False False False ... False False False]]\n"
          ]
        }
      ]
    },
    {
      "cell_type": "code",
      "source": [
        "n['arr_0'].sum()"
      ],
      "metadata": {
        "colab": {
          "base_uri": "https://localhost:8080/"
        },
        "id": "fDw76Ygye99d",
        "outputId": "558dc81f-cd45-4353-e94a-e495055c27fc"
      },
      "execution_count": null,
      "outputs": [
        {
          "output_type": "execute_result",
          "data": {
            "text/plain": [
              "254"
            ]
          },
          "metadata": {},
          "execution_count": 21
        }
      ]
    },
    {
      "cell_type": "code",
      "source": [
        "len(data) # total number of meshes"
      ],
      "metadata": {
        "colab": {
          "base_uri": "https://localhost:8080/"
        },
        "id": "ro5tH-WVfAbg",
        "outputId": "b1e8e3cd-a27c-46e4-ddf0-e3f4ab403b3e"
      },
      "execution_count": null,
      "outputs": [
        {
          "output_type": "execute_result",
          "data": {
            "text/plain": [
              "96"
            ]
          },
          "metadata": {},
          "execution_count": 30
        }
      ]
    }
  ]
}